{
 "cells": [
  {
   "cell_type": "markdown",
   "metadata": {},
   "source": [
    "### Automatizando o envio de mensagens do WhatsApp com o Python\n",
    "\n",
    "#### Autor: Cleiton Rocha\n",
    "#### Email: cleitonotavio058@gmail.com\n",
    "#### Linkedin: https://www.linkedin.com/in/cleitonoerocha/"
   ]
  },
  {
   "cell_type": "code",
   "execution_count": 1,
   "metadata": {},
   "outputs": [],
   "source": [
    "import pyautogui as pg\n",
    "import webbrowser as web\n",
    "import time\n",
    "import pandas as pd\n"
   ]
  },
  {
   "cell_type": "code",
   "execution_count": 5,
   "metadata": {
    "scrolled": true
   },
   "outputs": [],
   "source": [
    "data = pd.read_csv(\"Lista_contatos_pesquisa_Whatsapp_.csv\", sep=\";\")\n",
    "data\n"
   ]
  },
  {
   "cell_type": "code",
   "execution_count": 9,
   "metadata": {},
   "outputs": [],
   "source": [
    "data_dict = data.to_dict('list')\n",
    "\n",
    "leads = data_dict['WhatsApp']\n",
    "messages = data_dict['msg']\n",
    "combo = zip(leads,messages)\n",
    "first = True\n",
    "for lead,message in combo:\n",
    "    time.sleep(4)\n",
    "    web.open(\"https://web.whatsapp.com/send?phone=\"+lead+\"&text=\"+message)\n",
    "    if first:\n",
    "        time.sleep(6)\n",
    "        first=False\n",
    "    width,height = pg.size()\n",
    "    pg.click(width/2,height/2)\n",
    "    time.sleep(8)\n",
    "    pg.press('esc')\n",
    "    time.sleep(5)\n",
    "    pg.press('enter')\n",
    "    time.sleep(10)\n",
    "    pg.hotkey('ctrl', 'w')"
   ]
  }
 ],
 "metadata": {
  "kernelspec": {
   "display_name": "Python 3",
   "language": "python",
   "name": "python3"
  },
  "language_info": {
   "codemirror_mode": {
    "name": "ipython",
    "version": 3
   },
   "file_extension": ".py",
   "mimetype": "text/x-python",
   "name": "python",
   "nbconvert_exporter": "python",
   "pygments_lexer": "ipython3",
   "version": "3.8.3"
  }
 },
 "nbformat": 4,
 "nbformat_minor": 4
}
